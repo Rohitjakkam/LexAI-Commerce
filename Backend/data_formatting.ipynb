{
 "cells": [
  {
   "cell_type": "code",
   "execution_count": 1,
   "metadata": {},
   "outputs": [
    {
     "name": "stderr",
     "output_type": "stream",
     "text": [
      "/Users/lakshya/Programming/AI/Projects/legal-search/.conda/lib/python3.12/site-packages/tqdm/auto.py:21: TqdmWarning: IProgress not found. Please update jupyter and ipywidgets. See https://ipywidgets.readthedocs.io/en/stable/user_install.html\n",
      "  from .autonotebook import tqdm as notebook_tqdm\n"
     ]
    }
   ],
   "source": [
    "import google.generativeai as genai\n",
    "from tqdm import tqdm\n",
    "import os"
   ]
  },
  {
   "cell_type": "code",
   "execution_count": 2,
   "metadata": {},
   "outputs": [],
   "source": [
    "genai.configure(api_key=os.environ['API_KEY'])\n",
    "model = genai.GenerativeModel('gemini-1.5-flash')"
   ]
  },
  {
   "cell_type": "code",
   "execution_count": 3,
   "metadata": {},
   "outputs": [],
   "source": [
    "def generate_summary(file):\n",
    "    prompt = f'''{file} \\n please go through the above case in complete detail and provide me a contextual summary of the case, A summary of the relevant legal information.\\nI want large data. give large contextual summary full detailed case by going through the whole txt file. give proper detailed info of what all happened in the case arguments by appealant, responsdent, judge decisions, etc etc,\\nI want everything in detail. all the facts in the case, all relevant sections in the file, all legal principles in the file, each and every cotext in the file \\n \\n Follow this template for all the summaries like a bible:\\n 1. Case Title\n",
    "\n",
    "\t•\tCase Name: [e.g., ABC Corp. vs. XYZ Ltd.]\n",
    "\t•\tCourt: [e.g., Supreme Court of India]\n",
    "\t•\tDate of Judgment: [e.g., 23rd August 2024]\n",
    "\t•\tCitation: [e.g., 2024 SCC 123]\n",
    "\n",
    "2. Background and Context\n",
    "\n",
    "\t•\tBrief Overview: A concise summary of the case background, including relevant events leading up to the legal dispute.\n",
    "\t•\tKey Issues: A list of the main legal questions or issues presented in the case.\n",
    "\n",
    "3. Legal Principles Involved\n",
    "\n",
    "\t•\tRelevant Statutes and Provisions: List of statutory provisions, rules, and regulations relevant to the case.\n",
    "\t•\tPrecedents Cited: Key past judgments cited during the case.\n",
    "\t•\tLegal Doctrines: Any specific legal doctrines or principles applied in the judgment.\n",
    "\n",
    "4. Arguments Presented\n",
    "\n",
    "\t•\tPlaintiff’s Argument: Summary of the arguments and claims made by the plaintiff.\n",
    "\t•\tDefendant’s Argument: Summary of the arguments and defenses presented by the defendant.\n",
    "\n",
    "5. Court’s Analysis and Reasoning\n",
    "\n",
    "\t•\tKey Findings: Important observations and findings made by the court.\n",
    "\t•\tInterpretation of Law: How the court interpreted the relevant legal provisions and precedents.\n",
    "\t•\tApplication of Law: How the court applied the law to the facts of the case.\n",
    "\n",
    "6. Judgment\n",
    "\n",
    "\t•\tFinal Decision: The outcome of the case (e.g., in favor of the plaintiff/defendant).\n",
    "\t•\tRelief Granted: Any relief or damages awarded, if applicable.\n",
    "\t•\tOrders: Specific orders or directives issued by the court.\n",
    "\n",
    "7. Implications\n",
    "\n",
    "\t•\tImpact on Law: How the judgment impacts existing law or legal practice.\n",
    "\t•\tFuture Relevance: The potential influence of the case on future legal decisions or cases.\n",
    "\t•\tBroader Context: Any broader implications, such as social, economic, or political impact.\n",
    "\n",
    "8. Summary Points\n",
    "\n",
    "\t•\tKey Takeaways: Bullet points summarizing the most critical aspects of the case, suitable for quick reference.\n",
    "\n",
    "9. References\n",
    "\n",
    "\t•\tCitations: Full citations of any statutes, cases, or legal texts referenced in the summary.\n",
    "\t•\tFurther Reading: Suggestions for further reading or related cases.'''\n",
    "    response = model.generate_content(prompt)\n",
    "    return response.text"
   ]
  },
  {
   "cell_type": "code",
   "execution_count": null,
   "metadata": {},
   "outputs": [],
   "source": []
  },
  {
   "cell_type": "code",
   "execution_count": 7,
   "metadata": {},
   "outputs": [
    {
     "name": "stdout",
     "output_type": "stream",
     "text": [
      "['case338.txt', 'case304.txt', 'case310.txt', 'case20.txt', 'case34.txt', 'case106.txt', 'case112.txt', 'case258.txt', 'case270.txt', 'case264.txt', 'case265.txt', 'case271.txt', 'case259.txt', 'case113.txt', 'case107.txt', 'case35.txt', 'case21.txt', 'case311.txt', 'case305.txt', 'case339.txt', 'case313.txt', 'case307.txt', 'case37.txt', 'case23.txt', 'case139.txt', 'case111.txt', 'case105.txt', 'case267.txt', 'case273.txt', 'case298.txt', 'case299.txt', 'case272.txt', 'case266.txt', 'case104.txt', 'case110.txt', 'case138.txt', 'case22.txt', 'case36.txt', 'case306.txt', 'case312.txt', 'case316.txt', 'case302.txt', 'case32.txt', 'case26.txt', 'case114.txt', 'case100.txt', 'case128.txt', 'case262.txt', 'case276.txt', 'case289.txt', 'case288.txt', 'case277.txt', 'case263.txt', 'case129.txt', 'case101.txt', 'case115.txt', 'case27.txt', 'case33.txt', 'case303.txt', 'case317.txt', 'case301.txt', 'case315.txt', 'case329.txt', 'case19.txt', 'case25.txt', 'case31.txt', 'case103.txt', 'case117.txt', 'case275.txt', 'case261.txt', 'case249.txt', 'case248.txt', 'case260.txt', 'case274.txt', 'case116.txt', 'case102.txt', 'case30.txt', 'case24.txt', 'case18.txt', 'case328.txt', 'case314.txt', 'case300.txt', 'case80.txt', 'case94.txt', 'case367.txt', 'case373.txt', 'case43.txt', 'case398.txt', 'case57.txt', 'case159.txt', 'case165.txt', 'case171.txt', 'case213.txt', 'case207.txt', 'case206.txt', 'case212.txt', 'case170.txt', 'case164.txt', 'case158.txt', 'case56.txt', 'case399.txt', 'case42.txt', 'case372.txt', 'case400.txt', 'case366.txt', 'case95.txt', 'case81.txt', 'case97.txt', 'case358.txt', 'case83.txt', 'case370.txt', 'case364.txt', 'case54.txt', 'case40.txt', 'case68.txt', 'case172.txt', 'case166.txt', 'case199.txt', 'case238.txt', 'case204.txt', 'case210.txt', 'case211.txt', 'case205.txt', 'case239.txt', 'case198.txt', 'case167.txt', 'case173.txt', 'case69.txt', 'case41.txt', 'case55.txt', 'case365.txt', 'case371.txt', 'case82.txt', 'case359.txt', 'case96.txt', 'case375.txt', 'case361.txt', 'case92.txt', 'case349.txt', 'case86.txt', 'case79.txt', 'case51.txt', 'case45.txt', 'case177.txt', 'case163.txt', 'case188.txt', 'case201.txt', 'case215.txt', 'case229.txt', 'case228.txt', 'case214.txt', 'case200.txt', 'case189.txt', 'case162.txt', 'case176.txt', 'case44.txt', 'case50.txt', 'case78.txt', 'case87.txt', 'case348.txt', 'case93.txt', 'case360.txt', 'case374.txt', 'case362.txt', 'case376.txt', 'case85.txt', 'case91.txt', 'case46.txt', 'case389.txt', 'case52.txt', 'case160.txt', 'case174.txt', 'case148.txt', 'case216.txt', 'case202.txt', 'case9.txt', 'case8.txt', 'case203.txt', 'case217.txt', 'case149.txt', 'case175.txt', 'case161.txt', 'case53.txt', 'case388.txt', 'case47.txt', 'case90.txt', 'case84.txt', 'case377.txt', 'case363.txt', 'case346.txt', 'case89.txt', 'case352.txt', 'case62.txt', 'case76.txt', 'case385.txt', 'case391.txt', 'case178.txt', 'case144.txt', 'case150.txt', 'case187.txt', 'case193.txt', 'case232.txt', 'case226.txt', 'case5.txt', 'case4.txt', 'case227.txt', 'case233.txt', 'case192.txt', 'case186.txt', 'case151.txt', 'case145.txt', 'case179.txt', 'case390.txt', 'case384.txt', 'case77.txt', 'case63.txt', 'case353.txt', 'case88.txt', 'case347.txt', 'case379.txt', 'case351.txt', 'case345.txt', 'case75.txt', 'case61.txt', 'case392.txt', 'case49.txt', 'case386.txt', 'case153.txt', 'case147.txt', 'case190.txt', 'case184.txt', 'case219.txt', 'case225.txt', 'case231.txt', 'case6.txt', 'case7.txt', 'case230.txt', 'case224.txt', 'case218.txt', 'case185.txt', 'case191.txt', 'case146.txt', 'case152.txt', 'case387.txt', 'case48.txt', 'case393.txt', 'case60.txt', 'case74.txt', 'case344.txt', 'case350.txt', 'case378.txt', 'case354.txt', 'case340.txt', 'case368.txt', 'case397.txt', 'case58.txt', 'case383.txt', 'case70.txt', 'case64.txt', 'case156.txt', 'case142.txt', 'case195.txt', 'case181.txt', 'case220.txt', 'case234.txt', 'case208.txt', 'case3.txt', 'case2.txt', 'case209.txt', 'case235.txt', 'case221.txt', 'case180.txt', 'case194.txt', 'case143.txt', 'case157.txt', 'case65.txt', 'case71.txt', 'case382.txt', 'case59.txt', 'case396.txt', 'case369.txt', 'case341.txt', 'case355.txt', 'case343.txt', 'case98.txt', 'case357.txt', 'case380.txt', 'case394.txt', 'case67.txt', 'case73.txt', 'case141.txt', 'case155.txt', 'case169.txt', 'case182.txt', 'case196.txt', 'case237.txt', 'case223.txt', 'case1.txt', 'case222.txt', 'case236.txt', 'case197.txt', 'case183.txt', 'case168.txt', 'case154.txt', 'case140.txt', 'case72.txt', 'case66.txt', 'case395.txt', 'case381.txt', 'case356.txt', 'case99.txt', 'case342.txt', 'case319.txt', 'case325.txt', 'case331.txt', 'case15.txt', 'case29.txt', 'case127.txt', 'case133.txt', 'case279.txt', 'case251.txt', 'case245.txt', 'case292.txt', 'case286.txt', 'case287.txt', 'case293.txt', 'case244.txt', 'case250.txt', 'case278.txt', 'case132.txt', 'case126.txt', 'case28.txt', 'case14.txt', 'case330.txt', 'case324.txt', 'case318.txt', 'case332.txt', 'case326.txt', 'case16.txt', 'case118.txt', 'case130.txt', 'case124.txt', 'case246.txt', 'case252.txt', 'case285.txt', 'case291.txt', 'case290.txt', 'case284.txt', 'case253.txt', 'case247.txt', 'case125.txt', 'case131.txt', 'case119.txt', 'case17.txt', 'case327.txt', 'case333.txt', 'case337.txt', 'case323.txt', 'case13.txt', 'case135.txt', 'case121.txt', 'case109.txt', 'case243.txt', 'case257.txt', 'case280.txt', 'case294.txt', 'case295.txt', 'case281.txt', 'case256.txt', 'case242.txt', 'case108.txt', 'case120.txt', 'case134.txt', 'case12.txt', 'case322.txt', 'case336.txt', 'case320.txt', 'case334.txt', 'case308.txt', 'case38.txt', 'case10.txt', 'case122.txt', 'case136.txt', 'case254.txt', 'case240.txt', 'case268.txt', 'case297.txt', 'case283.txt', 'case282.txt', 'case296.txt', 'case269.txt', 'case241.txt', 'case255.txt', 'case137.txt', 'case123.txt', 'case11.txt', 'case39.txt', 'case309.txt', 'case335.txt', 'case321.txt']\n"
     ]
    },
    {
     "name": "stderr",
     "output_type": "stream",
     "text": [
      "Generating Summaries: 100%|██████████| 256/256 [1:12:28<00:00, 16.99s/it]\n"
     ]
    }
   ],
   "source": [
    "#files[143]\n",
    "files = os.listdir(\"../data\")\n",
    "print(files)\n",
    "\n",
    "for file in tqdm(files[144:], desc=\"Generating Summaries: \"):\n",
    "    text = open(f'../data/{file}', 'r').read()\n",
    "    summary = generate_summary(text)\n",
    "    with open(f\"case_summary{file}\", \"w\", encoding=\"utf-8\") as outfile:\n",
    "        outfile.write(summary)"
   ]
  },
  {
   "cell_type": "code",
   "execution_count": null,
   "metadata": {},
   "outputs": [],
   "source": [
    "# data_format = '''\n",
    "# \t•\tQuery: A natural language query representing a typical legal research question.\n",
    "# \t•\tRelevant Document IDs: List of document IDs that are relevant to the query.\n",
    "# \t•\tResponse Text: The model’s expected output in response to the query, including:\n",
    "# \t•\tContextual Summary: A summary of the relevant legal information.\n",
    "# \t•\tLegal Principles: Key legal principles or precedents related to the query.\n",
    "# \t•\tRelevant Sections: Extracted and highlighted sections from the relevant documents.\n",
    "# \t•\tContext: Additional information about the legal context (e.g., jurisdiction, case type) that can be used to fine-tune the model’s response.'''\n",
    "\n",
    "# prompt = f'{file} \\n format the data in the following format: \\n {data_format}. Keep in mind that the model will be trained on this data to generate responses to legal research questions. \\n Don\\'t keep the summary too short or too long. \\n'\n",
    "# prompt2 = f'''{file} \\n please go through the above case in complete detail\n",
    "# The thing is I need strucred data for the above model. I need the data in below given format\n",
    "# •⁠  ⁠Query ID: Unique identifier for each query-response pair.\n",
    "# \t•\tQuery: A natural language query representing a typical legal research question(Here the judge will eneter the present case for which the model will search in database)(The query can be the whole present case that judgse wants to solve).\n",
    "# \t•\tRelevant Document IDs: List of document IDs that are relevant to the query.\n",
    "# \t•\tResponse Text: The model’s expected output in response to the query, including:\n",
    "# \t•\tContextual Summary: A summary of the relevant legal information(from the text file).\n",
    "# \t•\tLegal Principles: Key legal principles or precedents related to the query(from text file. legal principles that are used in the previous case i.e. text file).\n",
    "# \t•\tRelevant Sections: Extracted and highlighted sections from the relevant documents(Relevant acts or sections from the previous case gievn in the text file).\n",
    "# \t•\tContext: Additional information about the legal context (e.g., jurisdiction, case type) that can be used to fine-tune the model’s response.\n",
    "# I want large data. give large contextual summary full detailed case by going through the whole txt file. give proper detailed info of what all happened in the case arguments by appealant, responsdent, judge decisions, etc etc,\n",
    "\n",
    "# I want everything in detail. all the facts in the case, all relevant sections in the file, all legal principles in the file, each and every cotext in the file\n",
    "\n",
    "# Please provide your response in JSON format.'''\n"
   ]
  },
  {
   "cell_type": "code",
   "execution_count": null,
   "metadata": {},
   "outputs": [],
   "source": []
  }
 ],
 "metadata": {
  "kernelspec": {
   "display_name": "Python 3",
   "language": "python",
   "name": "python3"
  },
  "language_info": {
   "codemirror_mode": {
    "name": "ipython",
    "version": 3
   },
   "file_extension": ".py",
   "mimetype": "text/x-python",
   "name": "python",
   "nbconvert_exporter": "python",
   "pygments_lexer": "ipython3",
   "version": "3.12.5"
  }
 },
 "nbformat": 4,
 "nbformat_minor": 2
}
